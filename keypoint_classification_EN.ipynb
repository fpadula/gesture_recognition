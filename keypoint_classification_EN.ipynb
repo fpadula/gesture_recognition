{
 "cells": [
  {
   "cell_type": "code",
   "execution_count": 23,
   "metadata": {
    "id": "igMyGnjE9hEp"
   },
   "outputs": [],
   "source": [
    "import csv\n",
    "\n",
    "import numpy as np\n",
    "import tensorflow as tf\n",
    "from sklearn.model_selection import train_test_split\n",
    "\n",
    "RANDOM_SEED = 42"
   ]
  },
  {
   "cell_type": "markdown",
   "metadata": {
    "id": "t2HDvhIu9hEr"
   },
   "source": [
    "# Specify each path"
   ]
  },
  {
   "cell_type": "code",
   "execution_count": 24,
   "metadata": {
    "id": "9NvZP2Zn9hEy"
   },
   "outputs": [],
   "source": [
    "dataset = 'model/keypoint_classifier/keypoint.csv'\n",
    "model_save_path = 'model/keypoint_classifier/keypoint_classifier.hdf5'\n",
    "tflite_save_path = 'model/keypoint_classifier/keypoint_classifier.tflite'"
   ]
  },
  {
   "cell_type": "markdown",
   "metadata": {
    "id": "s5oMH7x19hEz"
   },
   "source": [
    "# Set number of classes"
   ]
  },
  {
   "cell_type": "code",
   "execution_count": 25,
   "metadata": {
    "id": "du4kodXL9hEz"
   },
   "outputs": [],
   "source": [
    "NUM_CLASSES = 4"
   ]
  },
  {
   "cell_type": "markdown",
   "metadata": {
    "id": "XjnL0uso9hEz"
   },
   "source": [
    "# Dataset reading"
   ]
  },
  {
   "cell_type": "code",
   "execution_count": 26,
   "metadata": {
    "id": "QT5ZqtEz9hE0"
   },
   "outputs": [],
   "source": [
    "X_dataset = np.loadtxt(dataset, delimiter=',', dtype='float32', usecols=list(range(1, (21 * 2) + 1)))"
   ]
  },
  {
   "cell_type": "code",
   "execution_count": 27,
   "metadata": {
    "id": "QmoKFsp49hE0"
   },
   "outputs": [],
   "source": [
    "y_dataset = np.loadtxt(dataset, delimiter=',', dtype='int32', usecols=(0))"
   ]
  },
  {
   "cell_type": "code",
   "execution_count": 28,
   "metadata": {
    "id": "xQU7JTZ_9hE0"
   },
   "outputs": [],
   "source": [
    "X_train, X_test, y_train, y_test = train_test_split(X_dataset, y_dataset, train_size=0.75, random_state=RANDOM_SEED)"
   ]
  },
  {
   "cell_type": "markdown",
   "metadata": {
    "id": "mxK_lETT9hE0"
   },
   "source": [
    "# Model building"
   ]
  },
  {
   "cell_type": "code",
   "execution_count": 29,
   "metadata": {
    "id": "vHBmUf1t9hE1"
   },
   "outputs": [],
   "source": [
    "model = tf.keras.models.Sequential([\n",
    "    tf.keras.layers.Input((21 * 2, )),\n",
    "    tf.keras.layers.Dropout(0.2),\n",
    "    tf.keras.layers.Dense(20, activation='relu'),\n",
    "    tf.keras.layers.Dropout(0.4),\n",
    "    tf.keras.layers.Dense(10, activation='relu'),\n",
    "    tf.keras.layers.Dense(NUM_CLASSES, activation='softmax')\n",
    "])"
   ]
  },
  {
   "cell_type": "code",
   "execution_count": 30,
   "metadata": {
    "colab": {
     "base_uri": "https://localhost:8080/"
    },
    "id": "ypqky9tc9hE1",
    "outputId": "5db082bb-30e3-4110-bf63-a1ee777ecd46"
   },
   "outputs": [
    {
     "name": "stdout",
     "output_type": "stream",
     "text": [
      "Model: \"sequential_1\"\n",
      "_________________________________________________________________\n",
      "Layer (type)                 Output Shape              Param #   \n",
      "=================================================================\n",
      "dropout_2 (Dropout)          (None, 42)                0         \n",
      "_________________________________________________________________\n",
      "dense_3 (Dense)              (None, 20)                860       \n",
      "_________________________________________________________________\n",
      "dropout_3 (Dropout)          (None, 20)                0         \n",
      "_________________________________________________________________\n",
      "dense_4 (Dense)              (None, 10)                210       \n",
      "_________________________________________________________________\n",
      "dense_5 (Dense)              (None, 4)                 44        \n",
      "=================================================================\n",
      "Total params: 1,114\n",
      "Trainable params: 1,114\n",
      "Non-trainable params: 0\n",
      "_________________________________________________________________\n"
     ]
    }
   ],
   "source": [
    "model.summary()  # tf.keras.utils.plot_model(model, show_shapes=True)"
   ]
  },
  {
   "cell_type": "code",
   "execution_count": 31,
   "metadata": {
    "id": "MbMjOflQ9hE1"
   },
   "outputs": [],
   "source": [
    "# Model checkpoint callback\n",
    "cp_callback = tf.keras.callbacks.ModelCheckpoint(\n",
    "    model_save_path, verbose=1, save_weights_only=False)\n",
    "# Callback for early stopping\n",
    "es_callback = tf.keras.callbacks.EarlyStopping(patience=20, verbose=1)"
   ]
  },
  {
   "cell_type": "code",
   "execution_count": 32,
   "metadata": {
    "id": "c3Dac0M_9hE2"
   },
   "outputs": [],
   "source": [
    "# Model compilation\n",
    "model.compile(\n",
    "    optimizer='adam',\n",
    "    loss='sparse_categorical_crossentropy',\n",
    "    metrics=['accuracy']\n",
    ")"
   ]
  },
  {
   "cell_type": "markdown",
   "metadata": {
    "id": "7XI0j1Iu9hE2"
   },
   "source": [
    "# Model training"
   ]
  },
  {
   "cell_type": "code",
   "execution_count": 33,
   "metadata": {
    "colab": {
     "base_uri": "https://localhost:8080/"
    },
    "id": "WirBl-JE9hE3",
    "outputId": "71b30ca2-8294-4d9d-8aa2-800d90d399de",
    "scrolled": true
   },
   "outputs": [
    {
     "name": "stdout",
     "output_type": "stream",
     "text": [
      "Epoch 1/200\n",
      "35/35 [==============================] - 0s 3ms/step - loss: 1.3717 - accuracy: 0.3084 - val_loss: 1.3263 - val_accuracy: 0.3826\n",
      "\n",
      "Epoch 00001: saving model to model/keypoint_classifier/keypoint_classifier.hdf5\n",
      "Epoch 2/200\n",
      "35/35 [==============================] - 0s 1ms/step - loss: 1.3233 - accuracy: 0.3477 - val_loss: 1.2771 - val_accuracy: 0.4636\n",
      "\n",
      "Epoch 00002: saving model to model/keypoint_classifier/keypoint_classifier.hdf5\n",
      "Epoch 3/200\n",
      "35/35 [==============================] - 0s 1ms/step - loss: 1.2747 - accuracy: 0.3945 - val_loss: 1.1966 - val_accuracy: 0.5773\n",
      "\n",
      "Epoch 00003: saving model to model/keypoint_classifier/keypoint_classifier.hdf5\n",
      "Epoch 4/200\n",
      "35/35 [==============================] - 0s 1ms/step - loss: 1.2172 - accuracy: 0.4578 - val_loss: 1.1096 - val_accuracy: 0.6780\n",
      "\n",
      "Epoch 00004: saving model to model/keypoint_classifier/keypoint_classifier.hdf5\n",
      "Epoch 5/200\n",
      "35/35 [==============================] - 0s 1ms/step - loss: 1.1650 - accuracy: 0.4898 - val_loss: 1.0309 - val_accuracy: 0.7175\n",
      "\n",
      "Epoch 00005: saving model to model/keypoint_classifier/keypoint_classifier.hdf5\n",
      "Epoch 6/200\n",
      "35/35 [==============================] - 0s 1ms/step - loss: 1.1106 - accuracy: 0.5225 - val_loss: 0.9570 - val_accuracy: 0.7318\n",
      "\n",
      "Epoch 00006: saving model to model/keypoint_classifier/keypoint_classifier.hdf5\n",
      "Epoch 7/200\n",
      "35/35 [==============================] - 0s 1ms/step - loss: 1.0574 - accuracy: 0.5502 - val_loss: 0.8879 - val_accuracy: 0.7631\n",
      "\n",
      "Epoch 00007: saving model to model/keypoint_classifier/keypoint_classifier.hdf5\n",
      "Epoch 8/200\n",
      "35/35 [==============================] - 0s 1ms/step - loss: 1.0335 - accuracy: 0.5601 - val_loss: 0.8252 - val_accuracy: 0.7897\n",
      "\n",
      "Epoch 00008: saving model to model/keypoint_classifier/keypoint_classifier.hdf5\n",
      "Epoch 9/200\n",
      "35/35 [==============================] - 0s 1ms/step - loss: 0.9869 - accuracy: 0.5931 - val_loss: 0.7674 - val_accuracy: 0.8142\n",
      "\n",
      "Epoch 00009: saving model to model/keypoint_classifier/keypoint_classifier.hdf5\n",
      "Epoch 10/200\n",
      "35/35 [==============================] - 0s 1ms/step - loss: 0.9618 - accuracy: 0.6078 - val_loss: 0.7247 - val_accuracy: 0.8414\n",
      "\n",
      "Epoch 00010: saving model to model/keypoint_classifier/keypoint_classifier.hdf5\n",
      "Epoch 11/200\n",
      "35/35 [==============================] - 0s 1ms/step - loss: 0.9059 - accuracy: 0.6407 - val_loss: 0.6733 - val_accuracy: 0.8455\n",
      "\n",
      "Epoch 00011: saving model to model/keypoint_classifier/keypoint_classifier.hdf5\n",
      "Epoch 12/200\n",
      "35/35 [==============================] - 0s 1ms/step - loss: 0.9002 - accuracy: 0.6305 - val_loss: 0.6354 - val_accuracy: 0.8652\n",
      "\n",
      "Epoch 00012: saving model to model/keypoint_classifier/keypoint_classifier.hdf5\n",
      "Epoch 13/200\n",
      "35/35 [==============================] - 0s 1ms/step - loss: 0.8754 - accuracy: 0.6518 - val_loss: 0.6043 - val_accuracy: 0.8788\n",
      "\n",
      "Epoch 00013: saving model to model/keypoint_classifier/keypoint_classifier.hdf5\n",
      "Epoch 14/200\n",
      "35/35 [==============================] - 0s 1ms/step - loss: 0.8502 - accuracy: 0.6627 - val_loss: 0.5684 - val_accuracy: 0.8836\n",
      "\n",
      "Epoch 00014: saving model to model/keypoint_classifier/keypoint_classifier.hdf5\n",
      "Epoch 15/200\n",
      "35/35 [==============================] - 0s 1ms/step - loss: 0.8285 - accuracy: 0.6704 - val_loss: 0.5362 - val_accuracy: 0.8931\n",
      "\n",
      "Epoch 00015: saving model to model/keypoint_classifier/keypoint_classifier.hdf5\n",
      "Epoch 16/200\n",
      "35/35 [==============================] - 0s 1ms/step - loss: 0.8178 - accuracy: 0.6700 - val_loss: 0.5126 - val_accuracy: 0.8979\n",
      "\n",
      "Epoch 00016: saving model to model/keypoint_classifier/keypoint_classifier.hdf5\n",
      "Epoch 17/200\n",
      "35/35 [==============================] - 0s 1ms/step - loss: 0.7950 - accuracy: 0.6891 - val_loss: 0.4917 - val_accuracy: 0.8999\n",
      "\n",
      "Epoch 00017: saving model to model/keypoint_classifier/keypoint_classifier.hdf5\n",
      "Epoch 18/200\n",
      "35/35 [==============================] - 0s 1ms/step - loss: 0.7747 - accuracy: 0.7011 - val_loss: 0.4724 - val_accuracy: 0.9067\n",
      "\n",
      "Epoch 00018: saving model to model/keypoint_classifier/keypoint_classifier.hdf5\n",
      "Epoch 19/200\n",
      "35/35 [==============================] - 0s 1ms/step - loss: 0.7626 - accuracy: 0.6990 - val_loss: 0.4545 - val_accuracy: 0.9054\n",
      "\n",
      "Epoch 00019: saving model to model/keypoint_classifier/keypoint_classifier.hdf5\n",
      "Epoch 20/200\n",
      "35/35 [==============================] - 0s 1ms/step - loss: 0.7507 - accuracy: 0.7059 - val_loss: 0.4384 - val_accuracy: 0.9190\n",
      "\n",
      "Epoch 00020: saving model to model/keypoint_classifier/keypoint_classifier.hdf5\n",
      "Epoch 21/200\n",
      "35/35 [==============================] - 0s 1ms/step - loss: 0.7481 - accuracy: 0.7097 - val_loss: 0.4266 - val_accuracy: 0.9088\n",
      "\n",
      "Epoch 00021: saving model to model/keypoint_classifier/keypoint_classifier.hdf5\n",
      "Epoch 22/200\n",
      "35/35 [==============================] - 0s 1ms/step - loss: 0.7406 - accuracy: 0.7149 - val_loss: 0.4080 - val_accuracy: 0.9319\n",
      "\n",
      "Epoch 00022: saving model to model/keypoint_classifier/keypoint_classifier.hdf5\n",
      "Epoch 23/200\n",
      "35/35 [==============================] - 0s 1ms/step - loss: 0.7360 - accuracy: 0.7115 - val_loss: 0.3993 - val_accuracy: 0.9278\n",
      "\n",
      "Epoch 00023: saving model to model/keypoint_classifier/keypoint_classifier.hdf5\n",
      "Epoch 24/200\n",
      "35/35 [==============================] - 0s 1ms/step - loss: 0.7185 - accuracy: 0.7263 - val_loss: 0.3899 - val_accuracy: 0.9244\n",
      "\n",
      "Epoch 00024: saving model to model/keypoint_classifier/keypoint_classifier.hdf5\n",
      "Epoch 25/200\n",
      "35/35 [==============================] - 0s 1ms/step - loss: 0.7113 - accuracy: 0.7295 - val_loss: 0.3739 - val_accuracy: 0.9231\n",
      "\n",
      "Epoch 00025: saving model to model/keypoint_classifier/keypoint_classifier.hdf5\n",
      "Epoch 26/200\n",
      "35/35 [==============================] - 0s 1ms/step - loss: 0.6917 - accuracy: 0.7331 - val_loss: 0.3658 - val_accuracy: 0.9367\n",
      "\n",
      "Epoch 00026: saving model to model/keypoint_classifier/keypoint_classifier.hdf5\n",
      "Epoch 27/200\n",
      "35/35 [==============================] - 0s 1ms/step - loss: 0.6851 - accuracy: 0.7363 - val_loss: 0.3536 - val_accuracy: 0.9346\n",
      "\n",
      "Epoch 00027: saving model to model/keypoint_classifier/keypoint_classifier.hdf5\n",
      "Epoch 28/200\n",
      "35/35 [==============================] - 0s 1ms/step - loss: 0.6999 - accuracy: 0.7295 - val_loss: 0.3485 - val_accuracy: 0.9421\n",
      "\n",
      "Epoch 00028: saving model to model/keypoint_classifier/keypoint_classifier.hdf5\n",
      "Epoch 29/200\n",
      "35/35 [==============================] - 0s 1ms/step - loss: 0.6709 - accuracy: 0.7419 - val_loss: 0.3349 - val_accuracy: 0.9415\n",
      "\n",
      "Epoch 00029: saving model to model/keypoint_classifier/keypoint_classifier.hdf5\n",
      "Epoch 30/200\n",
      "35/35 [==============================] - 0s 1ms/step - loss: 0.6741 - accuracy: 0.7401 - val_loss: 0.3350 - val_accuracy: 0.9442\n",
      "\n",
      "Epoch 00030: saving model to model/keypoint_classifier/keypoint_classifier.hdf5\n",
      "Epoch 31/200\n",
      "35/35 [==============================] - 0s 1ms/step - loss: 0.6812 - accuracy: 0.7419 - val_loss: 0.3201 - val_accuracy: 0.9523\n",
      "\n",
      "Epoch 00031: saving model to model/keypoint_classifier/keypoint_classifier.hdf5\n",
      "Epoch 32/200\n",
      "35/35 [==============================] - 0s 1ms/step - loss: 0.6523 - accuracy: 0.7483 - val_loss: 0.3215 - val_accuracy: 0.9489\n",
      "\n",
      "Epoch 00032: saving model to model/keypoint_classifier/keypoint_classifier.hdf5\n",
      "Epoch 33/200\n",
      "35/35 [==============================] - 0s 1ms/step - loss: 0.6409 - accuracy: 0.7642 - val_loss: 0.3125 - val_accuracy: 0.9489\n",
      "\n",
      "Epoch 00033: saving model to model/keypoint_classifier/keypoint_classifier.hdf5\n",
      "Epoch 34/200\n",
      "35/35 [==============================] - 0s 1ms/step - loss: 0.6388 - accuracy: 0.7585 - val_loss: 0.3086 - val_accuracy: 0.9496\n",
      "\n",
      "Epoch 00034: saving model to model/keypoint_classifier/keypoint_classifier.hdf5\n",
      "Epoch 35/200\n",
      "35/35 [==============================] - 0s 1ms/step - loss: 0.6550 - accuracy: 0.7451 - val_loss: 0.3060 - val_accuracy: 0.9489\n",
      "\n",
      "Epoch 00035: saving model to model/keypoint_classifier/keypoint_classifier.hdf5\n",
      "Epoch 36/200\n",
      "35/35 [==============================] - 0s 1ms/step - loss: 0.6316 - accuracy: 0.7619 - val_loss: 0.3023 - val_accuracy: 0.9483\n",
      "\n",
      "Epoch 00036: saving model to model/keypoint_classifier/keypoint_classifier.hdf5\n",
      "Epoch 37/200\n",
      "35/35 [==============================] - 0s 1ms/step - loss: 0.6290 - accuracy: 0.7551 - val_loss: 0.2954 - val_accuracy: 0.9523\n",
      "\n",
      "Epoch 00037: saving model to model/keypoint_classifier/keypoint_classifier.hdf5\n",
      "Epoch 38/200\n"
     ]
    },
    {
     "name": "stdout",
     "output_type": "stream",
     "text": [
      "35/35 [==============================] - 0s 1ms/step - loss: 0.6356 - accuracy: 0.7537 - val_loss: 0.2906 - val_accuracy: 0.9537\n",
      "\n",
      "Epoch 00038: saving model to model/keypoint_classifier/keypoint_classifier.hdf5\n",
      "Epoch 39/200\n",
      "35/35 [==============================] - 0s 1ms/step - loss: 0.6326 - accuracy: 0.7590 - val_loss: 0.2920 - val_accuracy: 0.9523\n",
      "\n",
      "Epoch 00039: saving model to model/keypoint_classifier/keypoint_classifier.hdf5\n",
      "Epoch 40/200\n",
      "35/35 [==============================] - 0s 1ms/step - loss: 0.6163 - accuracy: 0.7680 - val_loss: 0.2794 - val_accuracy: 0.9585\n",
      "\n",
      "Epoch 00040: saving model to model/keypoint_classifier/keypoint_classifier.hdf5\n",
      "Epoch 41/200\n",
      "35/35 [==============================] - 0s 1ms/step - loss: 0.6073 - accuracy: 0.7671 - val_loss: 0.2769 - val_accuracy: 0.9571\n",
      "\n",
      "Epoch 00041: saving model to model/keypoint_classifier/keypoint_classifier.hdf5\n",
      "Epoch 42/200\n",
      "35/35 [==============================] - 0s 1ms/step - loss: 0.6115 - accuracy: 0.7776 - val_loss: 0.2773 - val_accuracy: 0.9592\n",
      "\n",
      "Epoch 00042: saving model to model/keypoint_classifier/keypoint_classifier.hdf5\n",
      "Epoch 43/200\n",
      "35/35 [==============================] - 0s 1ms/step - loss: 0.6202 - accuracy: 0.7585 - val_loss: 0.2687 - val_accuracy: 0.9578\n",
      "\n",
      "Epoch 00043: saving model to model/keypoint_classifier/keypoint_classifier.hdf5\n",
      "Epoch 44/200\n",
      "35/35 [==============================] - 0s 1ms/step - loss: 0.6160 - accuracy: 0.7760 - val_loss: 0.2690 - val_accuracy: 0.9571\n",
      "\n",
      "Epoch 00044: saving model to model/keypoint_classifier/keypoint_classifier.hdf5\n",
      "Epoch 45/200\n",
      "35/35 [==============================] - 0s 1ms/step - loss: 0.6048 - accuracy: 0.7699 - val_loss: 0.2628 - val_accuracy: 0.9564\n",
      "\n",
      "Epoch 00045: saving model to model/keypoint_classifier/keypoint_classifier.hdf5\n",
      "Epoch 46/200\n",
      "35/35 [==============================] - 0s 1ms/step - loss: 0.5964 - accuracy: 0.7714 - val_loss: 0.2665 - val_accuracy: 0.9585\n",
      "\n",
      "Epoch 00046: saving model to model/keypoint_classifier/keypoint_classifier.hdf5\n",
      "Epoch 47/200\n",
      "35/35 [==============================] - 0s 1ms/step - loss: 0.6021 - accuracy: 0.7742 - val_loss: 0.2580 - val_accuracy: 0.9612\n",
      "\n",
      "Epoch 00047: saving model to model/keypoint_classifier/keypoint_classifier.hdf5\n",
      "Epoch 48/200\n",
      "35/35 [==============================] - 0s 1ms/step - loss: 0.6047 - accuracy: 0.7730 - val_loss: 0.2580 - val_accuracy: 0.9619\n",
      "\n",
      "Epoch 00048: saving model to model/keypoint_classifier/keypoint_classifier.hdf5\n",
      "Epoch 49/200\n",
      "35/35 [==============================] - 0s 1ms/step - loss: 0.5785 - accuracy: 0.7794 - val_loss: 0.2574 - val_accuracy: 0.9639\n",
      "\n",
      "Epoch 00049: saving model to model/keypoint_classifier/keypoint_classifier.hdf5\n",
      "Epoch 50/200\n",
      "35/35 [==============================] - 0s 1ms/step - loss: 0.5741 - accuracy: 0.7762 - val_loss: 0.2485 - val_accuracy: 0.9653\n",
      "\n",
      "Epoch 00050: saving model to model/keypoint_classifier/keypoint_classifier.hdf5\n",
      "Epoch 51/200\n",
      "35/35 [==============================] - 0s 1ms/step - loss: 0.5818 - accuracy: 0.7839 - val_loss: 0.2557 - val_accuracy: 0.9598\n",
      "\n",
      "Epoch 00051: saving model to model/keypoint_classifier/keypoint_classifier.hdf5\n",
      "Epoch 52/200\n",
      "35/35 [==============================] - 0s 1ms/step - loss: 0.5931 - accuracy: 0.7708 - val_loss: 0.2527 - val_accuracy: 0.9551\n",
      "\n",
      "Epoch 00052: saving model to model/keypoint_classifier/keypoint_classifier.hdf5\n",
      "Epoch 53/200\n",
      "35/35 [==============================] - 0s 1ms/step - loss: 0.6012 - accuracy: 0.7687 - val_loss: 0.2507 - val_accuracy: 0.9646\n",
      "\n",
      "Epoch 00053: saving model to model/keypoint_classifier/keypoint_classifier.hdf5\n",
      "Epoch 54/200\n",
      "35/35 [==============================] - 0s 1ms/step - loss: 0.5904 - accuracy: 0.7798 - val_loss: 0.2488 - val_accuracy: 0.9592\n",
      "\n",
      "Epoch 00054: saving model to model/keypoint_classifier/keypoint_classifier.hdf5\n",
      "Epoch 55/200\n",
      "35/35 [==============================] - 0s 1ms/step - loss: 0.5951 - accuracy: 0.7676 - val_loss: 0.2505 - val_accuracy: 0.9626\n",
      "\n",
      "Epoch 00055: saving model to model/keypoint_classifier/keypoint_classifier.hdf5\n",
      "Epoch 56/200\n",
      "35/35 [==============================] - 0s 1ms/step - loss: 0.5895 - accuracy: 0.7805 - val_loss: 0.2477 - val_accuracy: 0.9605\n",
      "\n",
      "Epoch 00056: saving model to model/keypoint_classifier/keypoint_classifier.hdf5\n",
      "Epoch 57/200\n",
      "35/35 [==============================] - 0s 1ms/step - loss: 0.5674 - accuracy: 0.7833 - val_loss: 0.2420 - val_accuracy: 0.9632\n",
      "\n",
      "Epoch 00057: saving model to model/keypoint_classifier/keypoint_classifier.hdf5\n",
      "Epoch 58/200\n",
      "35/35 [==============================] - 0s 1ms/step - loss: 0.5724 - accuracy: 0.7903 - val_loss: 0.2376 - val_accuracy: 0.9592\n",
      "\n",
      "Epoch 00058: saving model to model/keypoint_classifier/keypoint_classifier.hdf5\n",
      "Epoch 59/200\n",
      "35/35 [==============================] - 0s 1ms/step - loss: 0.5585 - accuracy: 0.7817 - val_loss: 0.2361 - val_accuracy: 0.9558\n",
      "\n",
      "Epoch 00059: saving model to model/keypoint_classifier/keypoint_classifier.hdf5\n",
      "Epoch 60/200\n",
      "35/35 [==============================] - 0s 1ms/step - loss: 0.5618 - accuracy: 0.7878 - val_loss: 0.2318 - val_accuracy: 0.9619\n",
      "\n",
      "Epoch 00060: saving model to model/keypoint_classifier/keypoint_classifier.hdf5\n",
      "Epoch 61/200\n",
      "35/35 [==============================] - 0s 1ms/step - loss: 0.5351 - accuracy: 0.7932 - val_loss: 0.2314 - val_accuracy: 0.9626\n",
      "\n",
      "Epoch 00061: saving model to model/keypoint_classifier/keypoint_classifier.hdf5\n",
      "Epoch 62/200\n",
      "35/35 [==============================] - 0s 1ms/step - loss: 0.5758 - accuracy: 0.7776 - val_loss: 0.2370 - val_accuracy: 0.9592\n",
      "\n",
      "Epoch 00062: saving model to model/keypoint_classifier/keypoint_classifier.hdf5\n",
      "Epoch 63/200\n",
      "35/35 [==============================] - 0s 1ms/step - loss: 0.5744 - accuracy: 0.7839 - val_loss: 0.2322 - val_accuracy: 0.9632\n",
      "\n",
      "Epoch 00063: saving model to model/keypoint_classifier/keypoint_classifier.hdf5\n",
      "Epoch 64/200\n",
      "35/35 [==============================] - 0s 1ms/step - loss: 0.5657 - accuracy: 0.7903 - val_loss: 0.2358 - val_accuracy: 0.9598\n",
      "\n",
      "Epoch 00064: saving model to model/keypoint_classifier/keypoint_classifier.hdf5\n",
      "Epoch 65/200\n",
      "35/35 [==============================] - 0s 1ms/step - loss: 0.5746 - accuracy: 0.7787 - val_loss: 0.2342 - val_accuracy: 0.9639\n",
      "\n",
      "Epoch 00065: saving model to model/keypoint_classifier/keypoint_classifier.hdf5\n",
      "Epoch 66/200\n",
      "35/35 [==============================] - 0s 1ms/step - loss: 0.5514 - accuracy: 0.7953 - val_loss: 0.2321 - val_accuracy: 0.9592\n",
      "\n",
      "Epoch 00066: saving model to model/keypoint_classifier/keypoint_classifier.hdf5\n",
      "Epoch 67/200\n",
      "35/35 [==============================] - 0s 1ms/step - loss: 0.5483 - accuracy: 0.7953 - val_loss: 0.2387 - val_accuracy: 0.9585\n",
      "\n",
      "Epoch 00067: saving model to model/keypoint_classifier/keypoint_classifier.hdf5\n",
      "Epoch 68/200\n",
      "35/35 [==============================] - 0s 1ms/step - loss: 0.5722 - accuracy: 0.7760 - val_loss: 0.2353 - val_accuracy: 0.9660\n",
      "\n",
      "Epoch 00068: saving model to model/keypoint_classifier/keypoint_classifier.hdf5\n",
      "Epoch 69/200\n",
      "35/35 [==============================] - 0s 1ms/step - loss: 0.5557 - accuracy: 0.7941 - val_loss: 0.2368 - val_accuracy: 0.9592\n",
      "\n",
      "Epoch 00069: saving model to model/keypoint_classifier/keypoint_classifier.hdf5\n",
      "Epoch 70/200\n",
      "35/35 [==============================] - 0s 1ms/step - loss: 0.5582 - accuracy: 0.7937 - val_loss: 0.2283 - val_accuracy: 0.9612\n",
      "\n",
      "Epoch 00070: saving model to model/keypoint_classifier/keypoint_classifier.hdf5\n",
      "Epoch 71/200\n",
      "35/35 [==============================] - 0s 1ms/step - loss: 0.5735 - accuracy: 0.7857 - val_loss: 0.2322 - val_accuracy: 0.9619\n",
      "\n",
      "Epoch 00071: saving model to model/keypoint_classifier/keypoint_classifier.hdf5\n",
      "Epoch 72/200\n",
      "35/35 [==============================] - 0s 1ms/step - loss: 0.5633 - accuracy: 0.7867 - val_loss: 0.2310 - val_accuracy: 0.9605\n",
      "\n",
      "Epoch 00072: saving model to model/keypoint_classifier/keypoint_classifier.hdf5\n",
      "Epoch 73/200\n",
      "35/35 [==============================] - 0s 1ms/step - loss: 0.5283 - accuracy: 0.8050 - val_loss: 0.2289 - val_accuracy: 0.9612\n",
      "\n",
      "Epoch 00073: saving model to model/keypoint_classifier/keypoint_classifier.hdf5\n",
      "Epoch 74/200\n",
      "35/35 [==============================] - 0s 1ms/step - loss: 0.5568 - accuracy: 0.7916 - val_loss: 0.2284 - val_accuracy: 0.9632\n",
      "\n",
      "Epoch 00074: saving model to model/keypoint_classifier/keypoint_classifier.hdf5\n",
      "Epoch 75/200\n"
     ]
    },
    {
     "name": "stdout",
     "output_type": "stream",
     "text": [
      "35/35 [==============================] - 0s 1ms/step - loss: 0.5495 - accuracy: 0.7982 - val_loss: 0.2303 - val_accuracy: 0.9592\n",
      "\n",
      "Epoch 00075: saving model to model/keypoint_classifier/keypoint_classifier.hdf5\n",
      "Epoch 76/200\n",
      "35/35 [==============================] - 0s 1ms/step - loss: 0.5465 - accuracy: 0.7962 - val_loss: 0.2271 - val_accuracy: 0.9673\n",
      "\n",
      "Epoch 00076: saving model to model/keypoint_classifier/keypoint_classifier.hdf5\n",
      "Epoch 77/200\n",
      "35/35 [==============================] - 0s 1ms/step - loss: 0.5440 - accuracy: 0.7989 - val_loss: 0.2291 - val_accuracy: 0.9639\n",
      "\n",
      "Epoch 00077: saving model to model/keypoint_classifier/keypoint_classifier.hdf5\n",
      "Epoch 78/200\n",
      "35/35 [==============================] - 0s 1ms/step - loss: 0.5478 - accuracy: 0.7923 - val_loss: 0.2412 - val_accuracy: 0.9537\n",
      "\n",
      "Epoch 00078: saving model to model/keypoint_classifier/keypoint_classifier.hdf5\n",
      "Epoch 79/200\n",
      "35/35 [==============================] - 0s 1ms/step - loss: 0.5499 - accuracy: 0.7973 - val_loss: 0.2267 - val_accuracy: 0.9612\n",
      "\n",
      "Epoch 00079: saving model to model/keypoint_classifier/keypoint_classifier.hdf5\n",
      "Epoch 80/200\n",
      "35/35 [==============================] - 0s 1ms/step - loss: 0.5442 - accuracy: 0.7935 - val_loss: 0.2341 - val_accuracy: 0.9592\n",
      "\n",
      "Epoch 00080: saving model to model/keypoint_classifier/keypoint_classifier.hdf5\n",
      "Epoch 81/200\n",
      "35/35 [==============================] - 0s 1ms/step - loss: 0.5247 - accuracy: 0.8094 - val_loss: 0.2168 - val_accuracy: 0.9666\n",
      "\n",
      "Epoch 00081: saving model to model/keypoint_classifier/keypoint_classifier.hdf5\n",
      "Epoch 82/200\n",
      "35/35 [==============================] - 0s 1ms/step - loss: 0.5284 - accuracy: 0.8032 - val_loss: 0.2281 - val_accuracy: 0.9612\n",
      "\n",
      "Epoch 00082: saving model to model/keypoint_classifier/keypoint_classifier.hdf5\n",
      "Epoch 83/200\n",
      "35/35 [==============================] - 0s 1ms/step - loss: 0.5251 - accuracy: 0.8046 - val_loss: 0.2144 - val_accuracy: 0.9660\n",
      "\n",
      "Epoch 00083: saving model to model/keypoint_classifier/keypoint_classifier.hdf5\n",
      "Epoch 84/200\n",
      "35/35 [==============================] - 0s 1ms/step - loss: 0.5325 - accuracy: 0.8023 - val_loss: 0.2245 - val_accuracy: 0.9578\n",
      "\n",
      "Epoch 00084: saving model to model/keypoint_classifier/keypoint_classifier.hdf5\n",
      "Epoch 85/200\n",
      "35/35 [==============================] - 0s 1ms/step - loss: 0.5357 - accuracy: 0.8032 - val_loss: 0.2159 - val_accuracy: 0.9646\n",
      "\n",
      "Epoch 00085: saving model to model/keypoint_classifier/keypoint_classifier.hdf5\n",
      "Epoch 86/200\n",
      "35/35 [==============================] - 0s 1ms/step - loss: 0.5333 - accuracy: 0.7964 - val_loss: 0.2233 - val_accuracy: 0.9632\n",
      "\n",
      "Epoch 00086: saving model to model/keypoint_classifier/keypoint_classifier.hdf5\n",
      "Epoch 87/200\n",
      "35/35 [==============================] - 0s 1ms/step - loss: 0.5460 - accuracy: 0.8007 - val_loss: 0.2250 - val_accuracy: 0.9626\n",
      "\n",
      "Epoch 00087: saving model to model/keypoint_classifier/keypoint_classifier.hdf5\n",
      "Epoch 88/200\n",
      "35/35 [==============================] - 0s 1ms/step - loss: 0.5348 - accuracy: 0.7989 - val_loss: 0.2169 - val_accuracy: 0.9660\n",
      "\n",
      "Epoch 00088: saving model to model/keypoint_classifier/keypoint_classifier.hdf5\n",
      "Epoch 89/200\n",
      "35/35 [==============================] - 0s 1ms/step - loss: 0.5201 - accuracy: 0.8044 - val_loss: 0.2283 - val_accuracy: 0.9598\n",
      "\n",
      "Epoch 00089: saving model to model/keypoint_classifier/keypoint_classifier.hdf5\n",
      "Epoch 90/200\n",
      "35/35 [==============================] - 0s 1ms/step - loss: 0.5213 - accuracy: 0.8023 - val_loss: 0.2219 - val_accuracy: 0.9626\n",
      "\n",
      "Epoch 00090: saving model to model/keypoint_classifier/keypoint_classifier.hdf5\n",
      "Epoch 91/200\n",
      "35/35 [==============================] - 0s 1ms/step - loss: 0.5194 - accuracy: 0.8089 - val_loss: 0.2226 - val_accuracy: 0.9626\n",
      "\n",
      "Epoch 00091: saving model to model/keypoint_classifier/keypoint_classifier.hdf5\n",
      "Epoch 92/200\n",
      "35/35 [==============================] - 0s 1ms/step - loss: 0.5342 - accuracy: 0.7939 - val_loss: 0.2291 - val_accuracy: 0.9605\n",
      "\n",
      "Epoch 00092: saving model to model/keypoint_classifier/keypoint_classifier.hdf5\n",
      "Epoch 93/200\n",
      "35/35 [==============================] - 0s 1ms/step - loss: 0.5125 - accuracy: 0.8073 - val_loss: 0.2202 - val_accuracy: 0.9646\n",
      "\n",
      "Epoch 00093: saving model to model/keypoint_classifier/keypoint_classifier.hdf5\n",
      "Epoch 94/200\n",
      "35/35 [==============================] - 0s 1ms/step - loss: 0.5249 - accuracy: 0.8050 - val_loss: 0.2206 - val_accuracy: 0.9585\n",
      "\n",
      "Epoch 00094: saving model to model/keypoint_classifier/keypoint_classifier.hdf5\n",
      "Epoch 95/200\n",
      "35/35 [==============================] - 0s 1ms/step - loss: 0.5219 - accuracy: 0.8039 - val_loss: 0.2242 - val_accuracy: 0.9605\n",
      "\n",
      "Epoch 00095: saving model to model/keypoint_classifier/keypoint_classifier.hdf5\n",
      "Epoch 96/200\n",
      "35/35 [==============================] - 0s 1ms/step - loss: 0.5125 - accuracy: 0.8080 - val_loss: 0.2187 - val_accuracy: 0.9632\n",
      "\n",
      "Epoch 00096: saving model to model/keypoint_classifier/keypoint_classifier.hdf5\n",
      "Epoch 97/200\n",
      "35/35 [==============================] - 0s 1ms/step - loss: 0.5146 - accuracy: 0.8084 - val_loss: 0.2201 - val_accuracy: 0.9598\n",
      "\n",
      "Epoch 00097: saving model to model/keypoint_classifier/keypoint_classifier.hdf5\n",
      "Epoch 98/200\n",
      "35/35 [==============================] - 0s 1ms/step - loss: 0.5136 - accuracy: 0.8100 - val_loss: 0.2211 - val_accuracy: 0.9612\n",
      "\n",
      "Epoch 00098: saving model to model/keypoint_classifier/keypoint_classifier.hdf5\n",
      "Epoch 99/200\n",
      "35/35 [==============================] - 0s 1ms/step - loss: 0.5108 - accuracy: 0.8057 - val_loss: 0.2167 - val_accuracy: 0.9612\n",
      "\n",
      "Epoch 00099: saving model to model/keypoint_classifier/keypoint_classifier.hdf5\n",
      "Epoch 100/200\n",
      "35/35 [==============================] - 0s 1ms/step - loss: 0.4996 - accuracy: 0.8146 - val_loss: 0.2140 - val_accuracy: 0.9632\n",
      "\n",
      "Epoch 00100: saving model to model/keypoint_classifier/keypoint_classifier.hdf5\n",
      "Epoch 101/200\n",
      "35/35 [==============================] - 0s 1ms/step - loss: 0.5019 - accuracy: 0.8055 - val_loss: 0.2155 - val_accuracy: 0.9564\n",
      "\n",
      "Epoch 00101: saving model to model/keypoint_classifier/keypoint_classifier.hdf5\n",
      "Epoch 102/200\n",
      "35/35 [==============================] - 0s 1ms/step - loss: 0.5103 - accuracy: 0.8091 - val_loss: 0.2115 - val_accuracy: 0.9592\n",
      "\n",
      "Epoch 00102: saving model to model/keypoint_classifier/keypoint_classifier.hdf5\n",
      "Epoch 103/200\n",
      "35/35 [==============================] - 0s 1ms/step - loss: 0.5186 - accuracy: 0.8069 - val_loss: 0.2107 - val_accuracy: 0.9612\n",
      "\n",
      "Epoch 00103: saving model to model/keypoint_classifier/keypoint_classifier.hdf5\n",
      "Epoch 104/200\n",
      "35/35 [==============================] - 0s 1ms/step - loss: 0.5046 - accuracy: 0.8078 - val_loss: 0.2198 - val_accuracy: 0.9517\n",
      "\n",
      "Epoch 00104: saving model to model/keypoint_classifier/keypoint_classifier.hdf5\n",
      "Epoch 105/200\n",
      "35/35 [==============================] - 0s 1ms/step - loss: 0.4995 - accuracy: 0.8148 - val_loss: 0.2097 - val_accuracy: 0.9626\n",
      "\n",
      "Epoch 00105: saving model to model/keypoint_classifier/keypoint_classifier.hdf5\n",
      "Epoch 106/200\n",
      "35/35 [==============================] - 0s 1ms/step - loss: 0.5217 - accuracy: 0.8082 - val_loss: 0.2160 - val_accuracy: 0.9612\n",
      "\n",
      "Epoch 00106: saving model to model/keypoint_classifier/keypoint_classifier.hdf5\n",
      "Epoch 107/200\n",
      "35/35 [==============================] - 0s 1ms/step - loss: 0.5097 - accuracy: 0.8078 - val_loss: 0.2250 - val_accuracy: 0.9523\n",
      "\n",
      "Epoch 00107: saving model to model/keypoint_classifier/keypoint_classifier.hdf5\n",
      "Epoch 108/200\n",
      "35/35 [==============================] - 0s 1ms/step - loss: 0.5391 - accuracy: 0.7978 - val_loss: 0.2214 - val_accuracy: 0.9592\n",
      "\n",
      "Epoch 00108: saving model to model/keypoint_classifier/keypoint_classifier.hdf5\n",
      "Epoch 109/200\n",
      "35/35 [==============================] - 0s 1ms/step - loss: 0.5156 - accuracy: 0.8087 - val_loss: 0.2184 - val_accuracy: 0.9578\n",
      "\n",
      "Epoch 00109: saving model to model/keypoint_classifier/keypoint_classifier.hdf5\n",
      "Epoch 110/200\n",
      "35/35 [==============================] - 0s 1ms/step - loss: 0.4947 - accuracy: 0.8146 - val_loss: 0.2079 - val_accuracy: 0.9598\n",
      "\n",
      "Epoch 00110: saving model to model/keypoint_classifier/keypoint_classifier.hdf5\n",
      "Epoch 111/200\n",
      "35/35 [==============================] - 0s 1ms/step - loss: 0.5098 - accuracy: 0.8091 - val_loss: 0.2067 - val_accuracy: 0.9605\n",
      "\n",
      "Epoch 00111: saving model to model/keypoint_classifier/keypoint_classifier.hdf5\n",
      "Epoch 112/200\n"
     ]
    },
    {
     "name": "stdout",
     "output_type": "stream",
     "text": [
      "35/35 [==============================] - 0s 1ms/step - loss: 0.4903 - accuracy: 0.8166 - val_loss: 0.2100 - val_accuracy: 0.9598\n",
      "\n",
      "Epoch 00112: saving model to model/keypoint_classifier/keypoint_classifier.hdf5\n",
      "Epoch 113/200\n",
      "35/35 [==============================] - 0s 1ms/step - loss: 0.5053 - accuracy: 0.8137 - val_loss: 0.2103 - val_accuracy: 0.9612\n",
      "\n",
      "Epoch 00113: saving model to model/keypoint_classifier/keypoint_classifier.hdf5\n",
      "Epoch 114/200\n",
      "35/35 [==============================] - 0s 1ms/step - loss: 0.5166 - accuracy: 0.8134 - val_loss: 0.2122 - val_accuracy: 0.9626\n",
      "\n",
      "Epoch 00114: saving model to model/keypoint_classifier/keypoint_classifier.hdf5\n",
      "Epoch 115/200\n",
      "35/35 [==============================] - 0s 1ms/step - loss: 0.5185 - accuracy: 0.8073 - val_loss: 0.2179 - val_accuracy: 0.9619\n",
      "\n",
      "Epoch 00115: saving model to model/keypoint_classifier/keypoint_classifier.hdf5\n",
      "Epoch 116/200\n",
      "35/35 [==============================] - 0s 1ms/step - loss: 0.5041 - accuracy: 0.8157 - val_loss: 0.2147 - val_accuracy: 0.9571\n",
      "\n",
      "Epoch 00116: saving model to model/keypoint_classifier/keypoint_classifier.hdf5\n",
      "Epoch 117/200\n",
      "35/35 [==============================] - 0s 1ms/step - loss: 0.5123 - accuracy: 0.8132 - val_loss: 0.2122 - val_accuracy: 0.9619\n",
      "\n",
      "Epoch 00117: saving model to model/keypoint_classifier/keypoint_classifier.hdf5\n",
      "Epoch 118/200\n",
      "35/35 [==============================] - 0s 1ms/step - loss: 0.5111 - accuracy: 0.8123 - val_loss: 0.2145 - val_accuracy: 0.9619\n",
      "\n",
      "Epoch 00118: saving model to model/keypoint_classifier/keypoint_classifier.hdf5\n",
      "Epoch 119/200\n",
      "35/35 [==============================] - 0s 1ms/step - loss: 0.4893 - accuracy: 0.8214 - val_loss: 0.2199 - val_accuracy: 0.9544\n",
      "\n",
      "Epoch 00119: saving model to model/keypoint_classifier/keypoint_classifier.hdf5\n",
      "Epoch 120/200\n",
      "35/35 [==============================] - 0s 1ms/step - loss: 0.5179 - accuracy: 0.8107 - val_loss: 0.2126 - val_accuracy: 0.9585\n",
      "\n",
      "Epoch 00120: saving model to model/keypoint_classifier/keypoint_classifier.hdf5\n",
      "Epoch 121/200\n",
      "35/35 [==============================] - 0s 1ms/step - loss: 0.5138 - accuracy: 0.8148 - val_loss: 0.2192 - val_accuracy: 0.9592\n",
      "\n",
      "Epoch 00121: saving model to model/keypoint_classifier/keypoint_classifier.hdf5\n",
      "Epoch 122/200\n",
      "35/35 [==============================] - 0s 1ms/step - loss: 0.5185 - accuracy: 0.8096 - val_loss: 0.2192 - val_accuracy: 0.9551\n",
      "\n",
      "Epoch 00122: saving model to model/keypoint_classifier/keypoint_classifier.hdf5\n",
      "Epoch 123/200\n",
      "35/35 [==============================] - 0s 1ms/step - loss: 0.5083 - accuracy: 0.8096 - val_loss: 0.2086 - val_accuracy: 0.9632\n",
      "\n",
      "Epoch 00123: saving model to model/keypoint_classifier/keypoint_classifier.hdf5\n",
      "Epoch 124/200\n",
      "35/35 [==============================] - 0s 1ms/step - loss: 0.5115 - accuracy: 0.8137 - val_loss: 0.2207 - val_accuracy: 0.9551\n",
      "\n",
      "Epoch 00124: saving model to model/keypoint_classifier/keypoint_classifier.hdf5\n",
      "Epoch 125/200\n",
      "35/35 [==============================] - 0s 1ms/step - loss: 0.4825 - accuracy: 0.8200 - val_loss: 0.2172 - val_accuracy: 0.9585\n",
      "\n",
      "Epoch 00125: saving model to model/keypoint_classifier/keypoint_classifier.hdf5\n",
      "Epoch 126/200\n",
      "35/35 [==============================] - 0s 1ms/step - loss: 0.4965 - accuracy: 0.8255 - val_loss: 0.2197 - val_accuracy: 0.9537\n",
      "\n",
      "Epoch 00126: saving model to model/keypoint_classifier/keypoint_classifier.hdf5\n",
      "Epoch 127/200\n",
      "35/35 [==============================] - 0s 1ms/step - loss: 0.4882 - accuracy: 0.8128 - val_loss: 0.2088 - val_accuracy: 0.9578\n",
      "\n",
      "Epoch 00127: saving model to model/keypoint_classifier/keypoint_classifier.hdf5\n",
      "Epoch 128/200\n",
      "35/35 [==============================] - 0s 1ms/step - loss: 0.4817 - accuracy: 0.8214 - val_loss: 0.2148 - val_accuracy: 0.9598\n",
      "\n",
      "Epoch 00128: saving model to model/keypoint_classifier/keypoint_classifier.hdf5\n",
      "Epoch 129/200\n",
      "35/35 [==============================] - 0s 1ms/step - loss: 0.4813 - accuracy: 0.8232 - val_loss: 0.2094 - val_accuracy: 0.9612\n",
      "\n",
      "Epoch 00129: saving model to model/keypoint_classifier/keypoint_classifier.hdf5\n",
      "Epoch 130/200\n",
      "35/35 [==============================] - 0s 1ms/step - loss: 0.4859 - accuracy: 0.8209 - val_loss: 0.2083 - val_accuracy: 0.9619\n",
      "\n",
      "Epoch 00130: saving model to model/keypoint_classifier/keypoint_classifier.hdf5\n",
      "Epoch 131/200\n",
      "35/35 [==============================] - 0s 1ms/step - loss: 0.4957 - accuracy: 0.8146 - val_loss: 0.2053 - val_accuracy: 0.9578\n",
      "\n",
      "Epoch 00131: saving model to model/keypoint_classifier/keypoint_classifier.hdf5\n",
      "Epoch 132/200\n",
      "35/35 [==============================] - 0s 1ms/step - loss: 0.4951 - accuracy: 0.8141 - val_loss: 0.2187 - val_accuracy: 0.9544\n",
      "\n",
      "Epoch 00132: saving model to model/keypoint_classifier/keypoint_classifier.hdf5\n",
      "Epoch 133/200\n",
      "35/35 [==============================] - 0s 1ms/step - loss: 0.4999 - accuracy: 0.8153 - val_loss: 0.2161 - val_accuracy: 0.9578\n",
      "\n",
      "Epoch 00133: saving model to model/keypoint_classifier/keypoint_classifier.hdf5\n",
      "Epoch 134/200\n",
      "35/35 [==============================] - 0s 1ms/step - loss: 0.4977 - accuracy: 0.8134 - val_loss: 0.2050 - val_accuracy: 0.9632\n",
      "\n",
      "Epoch 00134: saving model to model/keypoint_classifier/keypoint_classifier.hdf5\n",
      "Epoch 135/200\n",
      "35/35 [==============================] - 0s 1ms/step - loss: 0.4834 - accuracy: 0.8250 - val_loss: 0.2208 - val_accuracy: 0.9503\n",
      "\n",
      "Epoch 00135: saving model to model/keypoint_classifier/keypoint_classifier.hdf5\n",
      "Epoch 136/200\n",
      "35/35 [==============================] - 0s 1ms/step - loss: 0.4846 - accuracy: 0.8202 - val_loss: 0.2070 - val_accuracy: 0.9571\n",
      "\n",
      "Epoch 00136: saving model to model/keypoint_classifier/keypoint_classifier.hdf5\n",
      "Epoch 137/200\n",
      "35/35 [==============================] - 0s 1ms/step - loss: 0.4864 - accuracy: 0.8146 - val_loss: 0.2189 - val_accuracy: 0.9551\n",
      "\n",
      "Epoch 00137: saving model to model/keypoint_classifier/keypoint_classifier.hdf5\n",
      "Epoch 138/200\n",
      "35/35 [==============================] - 0s 1ms/step - loss: 0.4904 - accuracy: 0.8255 - val_loss: 0.2093 - val_accuracy: 0.9578\n",
      "\n",
      "Epoch 00138: saving model to model/keypoint_classifier/keypoint_classifier.hdf5\n",
      "Epoch 139/200\n",
      "35/35 [==============================] - 0s 1ms/step - loss: 0.5094 - accuracy: 0.8137 - val_loss: 0.2215 - val_accuracy: 0.9544\n",
      "\n",
      "Epoch 00139: saving model to model/keypoint_classifier/keypoint_classifier.hdf5\n",
      "Epoch 140/200\n",
      "35/35 [==============================] - 0s 1ms/step - loss: 0.4923 - accuracy: 0.8223 - val_loss: 0.2226 - val_accuracy: 0.9517\n",
      "\n",
      "Epoch 00140: saving model to model/keypoint_classifier/keypoint_classifier.hdf5\n",
      "Epoch 141/200\n",
      "35/35 [==============================] - 0s 1ms/step - loss: 0.4865 - accuracy: 0.8221 - val_loss: 0.2071 - val_accuracy: 0.9585\n",
      "\n",
      "Epoch 00141: saving model to model/keypoint_classifier/keypoint_classifier.hdf5\n",
      "Epoch 142/200\n",
      "35/35 [==============================] - 0s 1ms/step - loss: 0.4730 - accuracy: 0.8286 - val_loss: 0.2086 - val_accuracy: 0.9523\n",
      "\n",
      "Epoch 00142: saving model to model/keypoint_classifier/keypoint_classifier.hdf5\n",
      "Epoch 143/200\n",
      "35/35 [==============================] - 0s 1ms/step - loss: 0.4980 - accuracy: 0.8159 - val_loss: 0.2094 - val_accuracy: 0.9571\n",
      "\n",
      "Epoch 00143: saving model to model/keypoint_classifier/keypoint_classifier.hdf5\n",
      "Epoch 144/200\n",
      "35/35 [==============================] - 0s 1ms/step - loss: 0.4977 - accuracy: 0.8155 - val_loss: 0.2146 - val_accuracy: 0.9605\n",
      "\n",
      "Epoch 00144: saving model to model/keypoint_classifier/keypoint_classifier.hdf5\n",
      "Epoch 145/200\n",
      "35/35 [==============================] - 0s 1ms/step - loss: 0.4813 - accuracy: 0.8182 - val_loss: 0.2149 - val_accuracy: 0.9503\n",
      "\n",
      "Epoch 00145: saving model to model/keypoint_classifier/keypoint_classifier.hdf5\n",
      "Epoch 146/200\n",
      "35/35 [==============================] - 0s 1ms/step - loss: 0.4970 - accuracy: 0.8084 - val_loss: 0.2229 - val_accuracy: 0.9564\n",
      "\n",
      "Epoch 00146: saving model to model/keypoint_classifier/keypoint_classifier.hdf5\n",
      "Epoch 147/200\n",
      "35/35 [==============================] - 0s 1ms/step - loss: 0.4763 - accuracy: 0.8205 - val_loss: 0.2090 - val_accuracy: 0.9585\n",
      "\n",
      "Epoch 00147: saving model to model/keypoint_classifier/keypoint_classifier.hdf5\n",
      "Epoch 148/200\n",
      "35/35 [==============================] - 0s 1ms/step - loss: 0.4906 - accuracy: 0.8137 - val_loss: 0.2129 - val_accuracy: 0.9523\n"
     ]
    },
    {
     "name": "stdout",
     "output_type": "stream",
     "text": [
      "\n",
      "Epoch 00148: saving model to model/keypoint_classifier/keypoint_classifier.hdf5\n",
      "Epoch 149/200\n",
      "35/35 [==============================] - 0s 1ms/step - loss: 0.4916 - accuracy: 0.8198 - val_loss: 0.2140 - val_accuracy: 0.9537\n",
      "\n",
      "Epoch 00149: saving model to model/keypoint_classifier/keypoint_classifier.hdf5\n",
      "Epoch 150/200\n",
      "35/35 [==============================] - 0s 1ms/step - loss: 0.4704 - accuracy: 0.8250 - val_loss: 0.2058 - val_accuracy: 0.9537\n",
      "\n",
      "Epoch 00150: saving model to model/keypoint_classifier/keypoint_classifier.hdf5\n",
      "Epoch 151/200\n",
      "35/35 [==============================] - 0s 1ms/step - loss: 0.4909 - accuracy: 0.8091 - val_loss: 0.2130 - val_accuracy: 0.9517\n",
      "\n",
      "Epoch 00151: saving model to model/keypoint_classifier/keypoint_classifier.hdf5\n",
      "Epoch 152/200\n",
      "35/35 [==============================] - 0s 1ms/step - loss: 0.4680 - accuracy: 0.8325 - val_loss: 0.2166 - val_accuracy: 0.9510\n",
      "\n",
      "Epoch 00152: saving model to model/keypoint_classifier/keypoint_classifier.hdf5\n",
      "Epoch 153/200\n",
      "35/35 [==============================] - 0s 1ms/step - loss: 0.4804 - accuracy: 0.8266 - val_loss: 0.2156 - val_accuracy: 0.9544\n",
      "\n",
      "Epoch 00153: saving model to model/keypoint_classifier/keypoint_classifier.hdf5\n",
      "Epoch 154/200\n",
      "35/35 [==============================] - 0s 1ms/step - loss: 0.5051 - accuracy: 0.8114 - val_loss: 0.2190 - val_accuracy: 0.9544\n",
      "\n",
      "Epoch 00154: saving model to model/keypoint_classifier/keypoint_classifier.hdf5\n",
      "Epoch 00154: early stopping\n"
     ]
    },
    {
     "data": {
      "text/plain": [
       "<keras.callbacks.History at 0x7fa7b5cc2040>"
      ]
     },
     "execution_count": 33,
     "metadata": {},
     "output_type": "execute_result"
    }
   ],
   "source": [
    "model.fit(\n",
    "    X_train,\n",
    "    y_train,\n",
    "    epochs=200,\n",
    "    batch_size=128,\n",
    "    validation_data=(X_test, y_test),\n",
    "    callbacks=[cp_callback, es_callback]\n",
    ")"
   ]
  },
  {
   "cell_type": "code",
   "execution_count": 34,
   "metadata": {
    "colab": {
     "base_uri": "https://localhost:8080/"
    },
    "id": "pxvb2Y299hE3",
    "outputId": "59eb3185-2e37-4b9e-bc9d-ab1b8ac29b7f"
   },
   "outputs": [
    {
     "name": "stdout",
     "output_type": "stream",
     "text": [
      "12/12 [==============================] - 0s 664us/step - loss: 0.2190 - accuracy: 0.9544\n"
     ]
    }
   ],
   "source": [
    "# Model evaluation\n",
    "val_loss, val_acc = model.evaluate(X_test, y_test, batch_size=128)"
   ]
  },
  {
   "cell_type": "code",
   "execution_count": 35,
   "metadata": {
    "id": "RBkmDeUW9hE4"
   },
   "outputs": [],
   "source": [
    "# Loading the saved model\n",
    "model = tf.keras.models.load_model(model_save_path)"
   ]
  },
  {
   "cell_type": "code",
   "execution_count": 36,
   "metadata": {
    "colab": {
     "base_uri": "https://localhost:8080/"
    },
    "id": "tFz9Tb0I9hE4",
    "outputId": "1c3b3528-54ae-4ee2-ab04-77429211cbef"
   },
   "outputs": [
    {
     "name": "stdout",
     "output_type": "stream",
     "text": [
      "[0.04026727 0.0034712  0.01778059 0.9384809 ]\n",
      "3\n"
     ]
    }
   ],
   "source": [
    "# Inference test\n",
    "predict_result = model.predict(np.array([X_test[0]]))\n",
    "print(np.squeeze(predict_result))\n",
    "print(np.argmax(np.squeeze(predict_result)))"
   ]
  },
  {
   "cell_type": "markdown",
   "metadata": {
    "id": "S3U4yNWx9hE4"
   },
   "source": [
    "# Confusion matrix"
   ]
  },
  {
   "cell_type": "code",
   "execution_count": 37,
   "metadata": {
    "colab": {
     "base_uri": "https://localhost:8080/",
     "height": 582
    },
    "id": "AP1V6SCk9hE5",
    "outputId": "08e41a80-7a4a-4619-8125-ecc371368d19"
   },
   "outputs": [
    {
     "data": {
      "image/png": "[encoded data removed]",
      "text/plain": [
       "<Figure size 504x432 with 2 Axes>"
      ]
     },
     "metadata": {
      "needs_background": "light"
     },
     "output_type": "display_data"
    },
    {
     "name": "stdout",
     "output_type": "stream",
     "text": [
      "Classification Report\n",
      "              precision    recall  f1-score   support\n",
      "\n",
      "           0       0.99      0.98      0.99       399\n",
      "           1       1.00      0.87      0.93       380\n",
      "           2       0.86      0.97      0.91       335\n",
      "           3       0.97      0.99      0.98       355\n",
      "\n",
      "    accuracy                           0.95      1469\n",
      "   macro avg       0.96      0.96      0.95      1469\n",
      "weighted avg       0.96      0.95      0.95      1469\n",
      "\n"
     ]
    }
   ],
   "source": [
    "import pandas as pd\n",
    "import seaborn as sns\n",
    "import matplotlib.pyplot as plt\n",
    "from sklearn.metrics import confusion_matrix, classification_report\n",
    "\n",
    "def print_confusion_matrix(y_true, y_pred, report=True):\n",
    "    labels = sorted(list(set(y_true)))\n",
    "    cmx_data = confusion_matrix(y_true, y_pred, labels=labels)\n",
    "    \n",
    "    df_cmx = pd.DataFrame(cmx_data, index=labels, columns=labels)\n",
    " \n",
    "    fig, ax = plt.subplots(figsize=(7, 6))\n",
    "    sns.heatmap(df_cmx, annot=True, fmt='g' ,square=False)\n",
    "    ax.set_ylim(len(set(y_true)), 0)\n",
    "    plt.show()\n",
    "    \n",
    "    if report:\n",
    "        print('Classification Report')\n",
    "        print(classification_report(y_test, y_pred))\n",
    "\n",
    "Y_pred = model.predict(X_test)\n",
    "y_pred = np.argmax(Y_pred, axis=1)\n",
    "\n",
    "print_confusion_matrix(y_test, y_pred)"
   ]
  },
  {
   "cell_type": "markdown",
   "metadata": {
    "id": "FNP6aqzc9hE5"
   },
   "source": [
    "# Convert to model for Tensorflow-Lite"
   ]
  },
  {
   "cell_type": "code",
   "execution_count": 38,
   "metadata": {
    "id": "ODjnYyld9hE6"
   },
   "outputs": [],
   "source": [
    "# Save as a model dedicated to inference\n",
    "model.save(model_save_path, include_optimizer=False)"
   ]
  },
  {
   "cell_type": "code",
   "execution_count": 39,
   "metadata": {
    "colab": {
     "base_uri": "https://localhost:8080/"
    },
    "id": "zRfuK8Y59hE6",
    "outputId": "a4ca585c-b5d5-4244-8291-8674063209bb"
   },
   "outputs": [
    {
     "name": "stdout",
     "output_type": "stream",
     "text": [
      "INFO:tensorflow:Assets written to: /tmp/tmpupengk31/assets\n"
     ]
    },
    {
     "name": "stderr",
     "output_type": "stream",
     "text": [
      "INFO:tensorflow:Assets written to: /tmp/tmpupengk31/assets\n",
      "2021-09-23 09:56:27.965048: I tensorflow/stream_executor/cuda/cuda_gpu_executor.cc:937] successful NUMA node read from SysFS had negative value (-1), but there must be at least one NUMA node, so returning NUMA node zero\n",
      "2021-09-23 09:56:27.965322: I tensorflow/core/grappler/devices.cc:66] Number of eligible GPUs (core count >= 8, compute capability >= 0.0): 1\n",
      "2021-09-23 09:56:27.965368: I tensorflow/core/grappler/clusters/single_machine.cc:357] Starting new session\n",
      "2021-09-23 09:56:27.965590: I tensorflow/stream_executor/cuda/cuda_gpu_executor.cc:937] successful NUMA node read from SysFS had negative value (-1), but there must be at least one NUMA node, so returning NUMA node zero\n",
      "2021-09-23 09:56:27.965819: W tensorflow/core/common_runtime/gpu/gpu_device.cc:1835] Cannot dlopen some GPU libraries. Please make sure the missing libraries mentioned above are installed properly if you would like to use GPU. Follow the guide at https://www.tensorflow.org/install/gpu for how to download and setup the required libraries for your platform.\n",
      "Skipping registering GPU devices...\n",
      "2021-09-23 09:56:27.966399: I tensorflow/core/grappler/optimizers/meta_optimizer.cc:1137] Optimization results for grappler item: graph_to_optimize\n",
      "  function_optimizer: function_optimizer did nothing. time = 0.004ms.\n",
      "  function_optimizer: function_optimizer did nothing. time = 0.001ms.\n",
      "\n",
      "2021-09-23 09:56:27.988468: W tensorflow/compiler/mlir/lite/python/tf_tfl_flatbuffer_helpers.cc:351] Ignored output_format.\n",
      "2021-09-23 09:56:27.988487: W tensorflow/compiler/mlir/lite/python/tf_tfl_flatbuffer_helpers.cc:354] Ignored drop_control_dependency.\n",
      "2021-09-23 09:56:28.000197: I tensorflow/lite/tools/optimize/quantize_weights.cc:225] Skipping quantization of tensor sequential_1/dense_3/MatMul because it has fewer than 1024 elements (840).\n",
      "2021-09-23 09:56:28.000219: I tensorflow/lite/tools/optimize/quantize_weights.cc:225] Skipping quantization of tensor sequential_1/dense_4/MatMul because it has fewer than 1024 elements (200).\n",
      "2021-09-23 09:56:28.000223: I tensorflow/lite/tools/optimize/quantize_weights.cc:225] Skipping quantization of tensor sequential_1/dense_5/MatMul because it has fewer than 1024 elements (40).\n"
     ]
    },
    {
     "data": {
      "text/plain": [
       "6400"
      ]
     },
     "execution_count": 39,
     "metadata": {},
     "output_type": "execute_result"
    }
   ],
   "source": [
    "# Transform model (quantization)\n",
    "\n",
    "converter = tf.lite.TFLiteConverter.from_keras_model(model)\n",
    "converter.optimizations = [tf.lite.Optimize.DEFAULT]\n",
    "tflite_quantized_model = converter.convert()\n",
    "\n",
    "open(tflite_save_path, 'wb').write(tflite_quantized_model)"
   ]
  },
  {
   "cell_type": "markdown",
   "metadata": {
    "id": "CHBPBXdx9hE6"
   },
   "source": [
    "# Inference test"
   ]
  },
  {
   "cell_type": "code",
   "execution_count": 40,
   "metadata": {
    "id": "mGAzLocO9hE7"
   },
   "outputs": [],
   "source": [
    "interpreter = tf.lite.Interpreter(model_path=tflite_save_path)\n",
    "interpreter.allocate_tensors()"
   ]
  },
  {
   "cell_type": "code",
   "execution_count": 41,
   "metadata": {
    "id": "oQuDK8YS9hE7"
   },
   "outputs": [],
   "source": [
    "# Get I / O tensor\n",
    "input_details = interpreter.get_input_details()\n",
    "output_details = interpreter.get_output_details()"
   ]
  },
  {
   "cell_type": "code",
   "execution_count": 42,
   "metadata": {
    "id": "2_ixAf_l9hE7"
   },
   "outputs": [],
   "source": [
    "interpreter.set_tensor(input_details[0]['index'], np.array([X_test[0]]))"
   ]
  },
  {
   "cell_type": "code",
   "execution_count": 43,
   "metadata": {
    "colab": {
     "base_uri": "https://localhost:8080/"
    },
    "id": "s4FoAnuc9hE7",
    "outputId": "91f18257-8d8b-4ef3-c558-e9b5f94fabbf",
    "scrolled": true
   },
   "outputs": [
    {
     "name": "stdout",
     "output_type": "stream",
     "text": [
      "CPU times: user 221 µs, sys: 24 µs, total: 245 µs\n",
      "Wall time: 203 µs\n"
     ]
    }
   ],
   "source": [
    "%%time\n",
    "# Inference implementation\n",
    "interpreter.invoke()\n",
    "tflite_results = interpreter.get_tensor(output_details[0]['index'])"
   ]
  },
  {
   "cell_type": "code",
   "execution_count": 44,
   "metadata": {
    "colab": {
     "base_uri": "https://localhost:8080/"
    },
    "id": "vONjp19J9hE8",
    "outputId": "77205e24-fd00-42c4-f7b6-e06e527c2cba"
   },
   "outputs": [
    {
     "name": "stdout",
     "output_type": "stream",
     "text": [
      "[0.04026728 0.0034712  0.01778059 0.9384809 ]\n",
      "3\n"
     ]
    }
   ],
   "source": [
    "print(np.squeeze(tflite_results))\n",
    "print(np.argmax(np.squeeze(tflite_results)))"
   ]
  }
 ],
 "metadata": {
  "accelerator": "GPU",
  "colab": {
   "collapsed_sections": [],
   "name": "keypoint_classification_EN.ipynb",
   "provenance": [],
   "toc_visible": true
  },
  "kernelspec": {
   "display_name": "GestureReco",
   "language": "python",
   "name": "gesturereco"
  },
  "language_info": {
   "codemirror_mode": {
    "name": "ipython",
    "version": 3
   },
   "file_extension": ".py",
   "mimetype": "text/x-python",
   "name": "python",
   "nbconvert_exporter": "python",
   "pygments_lexer": "ipython3",
   "version": "3.8.12"
  }
 },
 "nbformat": 4,
 "nbformat_minor": 1
}
